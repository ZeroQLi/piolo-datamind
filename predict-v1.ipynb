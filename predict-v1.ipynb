{
 "cells": [
  {
   "cell_type": "code",
   "execution_count": 16,
   "id": "2e14e589",
   "metadata": {},
   "outputs": [],
   "source": [
    "import pandas as pd\n",
    "import numpy as np\n",
    "from sklearn.metrics import mean_absolute_error\n",
    "from sklearn.model_selection import train_test_split"
   ]
  },
  {
   "cell_type": "code",
   "execution_count": 17,
   "id": "7076611f",
   "metadata": {},
   "outputs": [],
   "source": [
    "CSV_PATH = 'dataset/train/labels.csv'"
   ]
  },
  {
   "cell_type": "code",
   "execution_count": null,
   "id": "598f0cad",
   "metadata": {},
   "outputs": [
    {
     "data": {
      "text/html": [
       "<div>\n",
       "<style scoped>\n",
       "    .dataframe tbody tr th:only-of-type {\n",
       "        vertical-align: middle;\n",
       "    }\n",
       "\n",
       "    .dataframe tbody tr th {\n",
       "        vertical-align: top;\n",
       "    }\n",
       "\n",
       "    .dataframe thead th {\n",
       "        text-align: right;\n",
       "    }\n",
       "</style>\n",
       "<table border=\"1\" class=\"dataframe\">\n",
       "  <thead>\n",
       "    <tr style=\"text-align: right;\">\n",
       "      <th></th>\n",
       "      <th>filename</th>\n",
       "      <th>emp_id</th>\n",
       "    </tr>\n",
       "  </thead>\n",
       "  <tbody>\n",
       "    <tr>\n",
       "      <th>0</th>\n",
       "      <td>face_0568.jpg</td>\n",
       "      <td>emp016</td>\n",
       "    </tr>\n",
       "    <tr>\n",
       "      <th>1</th>\n",
       "      <td>face_0433.jpg</td>\n",
       "      <td>emp014</td>\n",
       "    </tr>\n",
       "    <tr>\n",
       "      <th>2</th>\n",
       "      <td>face_1751.jpg</td>\n",
       "      <td>emp004</td>\n",
       "    </tr>\n",
       "    <tr>\n",
       "      <th>3</th>\n",
       "      <td>face_0675.jpg</td>\n",
       "      <td>emp028</td>\n",
       "    </tr>\n",
       "    <tr>\n",
       "      <th>4</th>\n",
       "      <td>face_0112.jpg</td>\n",
       "      <td>emp001</td>\n",
       "    </tr>\n",
       "  </tbody>\n",
       "</table>\n",
       "</div>"
      ],
      "text/plain": [
       "        filename  emp_id\n",
       "0  face_0568.jpg  emp016\n",
       "1  face_0433.jpg  emp014\n",
       "2  face_1751.jpg  emp004\n",
       "3  face_0675.jpg  emp028\n",
       "4  face_0112.jpg  emp001"
      ]
     },
     "execution_count": 18,
     "metadata": {},
     "output_type": "execute_result"
    }
   ],
   "source": [
    "csv_data = pd.read_csv(CSV_PATH)\n",
    "csv_data.loc()"
   ]
  },
  {
   "cell_type": "code",
   "execution_count": 19,
   "id": "37a3ebd8",
   "metadata": {},
   "outputs": [
    {
     "data": {
      "text/plain": [
       "emp_id\n",
       "UNKNOWN    17\n",
       "emp001     69\n",
       "emp002     84\n",
       "emp003     32\n",
       "emp004     45\n",
       "emp005      2\n",
       "emp006     28\n",
       "emp007      8\n",
       "emp008      7\n",
       "emp009     31\n",
       "emp010     82\n",
       "emp011     37\n",
       "emp012     23\n",
       "emp013     23\n",
       "emp014     78\n",
       "emp015     55\n",
       "emp016     65\n",
       "emp017      4\n",
       "emp018     43\n",
       "emp019     78\n",
       "emp020     88\n",
       "emp021     52\n",
       "emp022     47\n",
       "emp023     28\n",
       "emp024      1\n",
       "emp025     30\n",
       "emp026      3\n",
       "emp027     16\n",
       "emp028      9\n",
       "emp030      7\n",
       "emp031     38\n",
       "emp032      4\n",
       "emp034     16\n",
       "emp035     29\n",
       "dtype: int64"
      ]
     },
     "execution_count": 19,
     "metadata": {},
     "output_type": "execute_result"
    }
   ],
   "source": [
    "csv_data.groupby('emp_id').size()"
   ]
  }
 ],
 "metadata": {
  "kernelspec": {
   "display_name": ".venv",
   "language": "python",
   "name": "python3"
  },
  "language_info": {
   "codemirror_mode": {
    "name": "ipython",
    "version": 3
   },
   "file_extension": ".py",
   "mimetype": "text/x-python",
   "name": "python",
   "nbconvert_exporter": "python",
   "pygments_lexer": "ipython3",
   "version": "3.11.2"
  }
 },
 "nbformat": 4,
 "nbformat_minor": 5
}
