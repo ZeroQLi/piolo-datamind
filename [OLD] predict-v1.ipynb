{
 "cells": [
  {
   "cell_type": "code",
   "execution_count": 32,
   "id": "2e14e589",
   "metadata": {},
   "outputs": [],
   "source": [
    "import pandas as pd\n",
    "import numpy as np\n",
    "from sklearn.metrics import mean_absolute_error\n",
    "from sklearn.model_selection import train_test_split"
   ]
  },
  {
   "cell_type": "code",
   "execution_count": 33,
   "id": "7076611f",
   "metadata": {},
   "outputs": [],
   "source": [
    "CSV_PATH = 'dataset/train/labels.csv'"
   ]
  },
  {
   "cell_type": "code",
   "execution_count": 35,
   "id": "598f0cad",
   "metadata": {},
   "outputs": [
    {
     "data": {
      "text/plain": [
       "emp_id\n",
       "emp024     11\n",
       "emp005     15\n",
       "emp017     17\n",
       "UNKNOWN    17\n",
       "emp032     18\n",
       "emp026     19\n",
       "emp007     21\n",
       "emp008     21\n",
       "emp030     21\n",
       "emp013     23\n",
       "emp028     23\n",
       "emp034     26\n",
       "emp006     28\n",
       "emp023     28\n",
       "emp035     29\n",
       "emp025     30\n",
       "emp027     30\n",
       "emp009     31\n",
       "emp003     32\n",
       "emp012     36\n",
       "emp011     37\n",
       "emp031     38\n",
       "emp018     43\n",
       "emp004     45\n",
       "emp022     47\n",
       "emp021     52\n",
       "emp015     55\n",
       "emp016     65\n",
       "emp001     69\n",
       "emp014     78\n",
       "emp019     78\n",
       "emp010     82\n",
       "emp002     84\n",
       "emp020     88\n",
       "dtype: int64"
      ]
     },
     "execution_count": 35,
     "metadata": {},
     "output_type": "execute_result"
    }
   ],
   "source": [
    "csv_data = pd.read_csv(CSV_PATH)\n",
    "csv_data.groupby('emp_id').size().sort_values()"
   ]
  },
  {
   "cell_type": "code",
   "execution_count": 30,
   "id": "37a3ebd8",
   "metadata": {},
   "outputs": [
    {
     "data": {
      "text/plain": [
       "emp_id\n",
       "emp020     88\n",
       "emp002     84\n",
       "emp010     82\n",
       "emp014     78\n",
       "emp019     78\n",
       "emp001     69\n",
       "emp016     65\n",
       "emp015     55\n",
       "emp021     52\n",
       "emp022     47\n",
       "emp004     45\n",
       "emp018     43\n",
       "emp031     38\n",
       "emp011     37\n",
       "emp003     32\n",
       "emp009     31\n",
       "emp025     30\n",
       "emp035     29\n",
       "emp006     28\n",
       "emp023     28\n",
       "emp013     23\n",
       "emp012     23\n",
       "UNKNOWN    17\n",
       "emp034     16\n",
       "emp027     16\n",
       "emp028      9\n",
       "emp007      8\n",
       "emp008      7\n",
       "emp030      7\n",
       "emp017      4\n",
       "emp032      4\n",
       "emp026      3\n",
       "emp005      2\n",
       "emp024      1\n",
       "Name: count, dtype: int64"
      ]
     },
     "execution_count": 30,
     "metadata": {},
     "output_type": "execute_result"
    }
   ],
   "source": [
    "csv_data['emp_id'].value_counts()"
   ]
  }
 ],
 "metadata": {
  "kernelspec": {
   "display_name": ".venv",
   "language": "python",
   "name": "python3"
  },
  "language_info": {
   "codemirror_mode": {
    "name": "ipython",
    "version": 3
   },
   "file_extension": ".py",
   "mimetype": "text/x-python",
   "name": "python",
   "nbconvert_exporter": "python",
   "pygments_lexer": "ipython3",
   "version": "3.11.2"
  }
 },
 "nbformat": 4,
 "nbformat_minor": 5
}
