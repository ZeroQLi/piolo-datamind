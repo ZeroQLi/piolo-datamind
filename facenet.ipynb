{
 "cells": [
  {
   "cell_type": "code",
   "execution_count": null,
   "metadata": {
    "execution": {
     "iopub.execute_input": "2025-07-03T06:15:52.035336Z",
     "iopub.status.busy": "2025-07-03T06:15:52.034933Z",
     "iopub.status.idle": "2025-07-03T06:15:59.536419Z",
     "shell.execute_reply": "2025-07-03T06:15:59.535662Z",
     "shell.execute_reply.started": "2025-07-03T06:15:52.035303Z"
    },
    "trusted": true
   },
   "outputs": [],
   "source": [
    "!pip install -q facenet-pytorch\n",
    "!pip install pillow==6.2.2"
   ]
  },
  {
   "cell_type": "code",
   "execution_count": null,
   "metadata": {
    "execution": {
     "iopub.execute_input": "2025-07-03T06:15:59.538036Z",
     "iopub.status.busy": "2025-07-03T06:15:59.537780Z",
     "iopub.status.idle": "2025-07-03T06:16:07.739805Z",
     "shell.execute_reply": "2025-07-03T06:16:07.739012Z",
     "shell.execute_reply.started": "2025-07-03T06:15:59.537998Z"
    },
    "trusted": true
   },
   "outputs": [],
   "source": [
    "import pandas as pd\n",
    "from fastai.vision.all import *\n",
    "from fastai.torch_basics import *\n",
    "from PIL import Image\n",
    "import os\n",
    "from facenet_pytorch import InceptionResnetV1\n",
    "os.listdir('/kaggle/input/identity-employees-in-surveillance-cctv/dataset/dataset/train')"
   ]
  },
  {
   "cell_type": "code",
   "execution_count": null,
   "metadata": {
    "execution": {
     "iopub.execute_input": "2025-07-03T06:16:07.741242Z",
     "iopub.status.busy": "2025-07-03T06:16:07.740692Z",
     "iopub.status.idle": "2025-07-03T06:16:07.747187Z",
     "shell.execute_reply": "2025-07-03T06:16:07.746452Z",
     "shell.execute_reply.started": "2025-07-03T06:16:07.741211Z"
    },
    "trusted": true
   },
   "outputs": [],
   "source": [
    "path = '/kaggle/input/identity-employees-in-surveillance-cctv/dataset/dataset/train/'\n",
    "images_path= path + 'images/'\n",
    "test_path = '/kaggle/input/identity-employees-in-surveillance-cctv/dataset_unseen/unseen_test/images/'\n",
    "csv_path = path + 'labels.csv'\n",
    "csv_path"
   ]
  },
  {
   "cell_type": "code",
   "execution_count": null,
   "metadata": {
    "execution": {
     "iopub.execute_input": "2025-07-03T06:16:07.749108Z",
     "iopub.status.busy": "2025-07-03T06:16:07.748885Z",
     "iopub.status.idle": "2025-07-03T06:16:11.227696Z",
     "shell.execute_reply": "2025-07-03T06:16:11.227030Z",
     "shell.execute_reply.started": "2025-07-03T06:16:07.749090Z"
    },
    "trusted": true
   },
   "outputs": [],
   "source": [
    "files = get_image_files(images_path)\n",
    "df = pd.read_csv(csv_path)\n",
    "df.head()"
   ]
  },
  {
   "cell_type": "code",
   "execution_count": null,
   "metadata": {
    "execution": {
     "iopub.execute_input": "2025-07-03T06:16:11.228563Z",
     "iopub.status.busy": "2025-07-03T06:16:11.228377Z",
     "iopub.status.idle": "2025-07-03T06:16:13.160143Z",
     "shell.execute_reply": "2025-07-03T06:16:13.159392Z",
     "shell.execute_reply.started": "2025-07-03T06:16:11.228547Z"
    },
    "trusted": true
   },
   "outputs": [],
   "source": [
    "# Create ImageDataLoaders from CSV\n",
    "dls = ImageDataLoaders.from_csv(\n",
    "    path='/kaggle/input/identity-employees-in-surveillance-cctv/dataset/dataset/train/',\n",
    "    csv_fname='labels.csv',\n",
    "    folder='images',\n",
    "    fn_col='filename',\n",
    "    label_col='emp_id',\n",
    "    valid_pct=0.2,\n",
    "    item_tfms=Resize(224),\n",
    "    batch_tfms=aug_transforms(size=224)\n",
    ")\n",
    "# Show batch to verify the data loading\n",
    "dls.show_batch()\n",
    "df.groupby('emp_id').size()"
   ]
  },
  {
   "cell_type": "code",
   "execution_count": null,
   "metadata": {
    "execution": {
     "iopub.execute_input": "2025-07-03T06:16:13.161358Z",
     "iopub.status.busy": "2025-07-03T06:16:13.161135Z"
    },
    "trusted": true
   },
   "outputs": [],
   "source": [
    "from torch import nn\n",
    "from facenet_pytorch import InceptionResnetV1\n",
    "\n",
    "# Load FaceNet backbone\n",
    "facenet_backbone = InceptionResnetV1(pretrained='vggface2')  # can use 'casia-webface' too\n",
    "\n",
    "# Freeze the backbone if needed\n",
    "facenet_backbone.classify = False\n",
    "facenet_backbone.eval()  # optional: only if you're not training\n",
    "\n",
    "# Wrap into a model with a classification head\n",
    "num_classes = len(dls.vocab)  # number of emp_id classes\n",
    "model = nn.Sequential(\n",
    "    facenet_backbone,\n",
    "    nn.Linear(512, num_classes)\n",
    ")\n",
    "\n",
    "# Use FastAI learner\n",
    "learn = Learner(dls, model, loss_func=CrossEntropyLossFlat(), metrics=accuracy, model_dir='/kaggle/working/models')\n",
    "learn.fine_tune(175)  # 👈 Train for 180 epochs\n"
   ]
  },
  {
   "cell_type": "markdown",
   "metadata": {},
   "source": [
    "# save weights"
   ]
  },
  {
   "cell_type": "code",
   "execution_count": null,
   "metadata": {
    "trusted": true
   },
   "outputs": [],
   "source": [
    "learn.save('/kaggle/working/facenet_weights')"
   ]
  },
  {
   "cell_type": "code",
   "execution_count": null,
   "metadata": {
    "trusted": true
   },
   "outputs": [],
   "source": [
    "def predict_image(image):\n",
    "\treturn learn.predict(test_path+image)[0]\n",
    "#test_path\n",
    "results = []"
   ]
  },
  {
   "cell_type": "code",
   "execution_count": null,
   "metadata": {
    "trusted": true
   },
   "outputs": [],
   "source": [
    "for image in os.listdir(test_path):\n",
    "\tprediction = dict(filename=image, emp_id=predict_image(image))\n",
    "\tresults.append(prediction)"
   ]
  },
  {
   "cell_type": "code",
   "execution_count": null,
   "metadata": {
    "trusted": true
   },
   "outputs": [],
   "source": [
    "results_df = pd.DataFrame.from_dict(results)\n",
    "hi = results_df.drop_duplicates()\n",
    "hi"
   ]
  },
  {
   "cell_type": "code",
   "execution_count": null,
   "metadata": {
    "trusted": true
   },
   "outputs": [],
   "source": [
    "hi.to_csv('/kaggle/working/submission_maybe_maybe?.csv', index=False)"
   ]
  }
 ],
 "metadata": {
  "kaggle": {
   "accelerator": "gpu",
   "dataSources": [
    {
     "databundleVersionId": 12839151,
     "sourceId": 105039,
     "sourceType": "competition"
    },
    {
     "datasetId": 7729564,
     "sourceId": 12266163,
     "sourceType": "datasetVersion"
    }
   ],
   "isGpuEnabled": true,
   "isInternetEnabled": true,
   "language": "python",
   "sourceType": "notebook"
  },
  "kernelspec": {
   "display_name": "Python 3",
   "language": "python",
   "name": "python3"
  },
  "language_info": {
   "codemirror_mode": {
    "name": "ipython",
    "version": 3
   },
   "file_extension": ".py",
   "mimetype": "text/x-python",
   "name": "python",
   "nbconvert_exporter": "python",
   "pygments_lexer": "ipython3",
   "version": "3.11.11"
  }
 },
 "nbformat": 4,
 "nbformat_minor": 4
}
